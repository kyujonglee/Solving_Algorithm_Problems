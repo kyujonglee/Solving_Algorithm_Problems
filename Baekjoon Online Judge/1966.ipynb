{
 "cells": [
  {
   "cell_type": "markdown",
   "metadata": {},
   "source": [
    "#### 문제 제목 : 프린트큐\n",
    "- 문제 난이도 : 하\n",
    "- 문제 유형: 큐, 구현, 그리디\n",
    "- 추천 풀이 시간: 25분"
   ]
  },
  {
   "cell_type": "code",
   "execution_count": 3,
   "metadata": {},
   "outputs": [
    {
     "name": "stdout",
     "output_type": "stream",
     "text": [
      "3\n",
      "1 2\n",
      "4 5\n",
      "6 7\n"
     ]
    }
   ],
   "source": [
    "## 내 오답\n",
    "test_case = int(input())\n",
    "\n",
    "for _ in range(test_case):\n",
    "    n, m = list(map(int, (input().split(' '))))\n",
    "    arr = list(map(int, (input().split(' '))))\n",
    "    if n == 1:\n",
    "        print(1)\n",
    "        continue\n",
    "    else:\n",
    "        length = len(arr)\n",
    "        count = 0\n",
    "        maxNum = max(arr)\n",
    "        for j in range(0, length):\n",
    "            "
   ]
  },
  {
   "cell_type": "code",
   "execution_count": 19,
   "metadata": {},
   "outputs": [
    {
     "name": "stdout",
     "output_type": "stream",
     "text": [
      "1\n",
      "4 2\n",
      "2 1 3 4\n",
      "2\n"
     ]
    }
   ],
   "source": [
    "## 정답\n",
    "test_case = int(input())\n",
    "for _ in range(test_case):\n",
    "    n, m = list(map(int, (input().split(' '))))\n",
    "    queue = list(map(int, (input().split(' '))))\n",
    "    queue = [(val, idx) for idx,val in enumerate(queue)]\n",
    "    if n == 1:\n",
    "        print(1)\n",
    "        continue\n",
    "    count = 0\n",
    "    while True:\n",
    "        maxNum = max(queue, key = lambda x : x[0])[0]\n",
    "        if queue[0][0] == maxNum:\n",
    "            count += 1\n",
    "            if queue[0][1] == m:\n",
    "                print(count)\n",
    "                break\n",
    "            queue.pop(0)\n",
    "        else:\n",
    "            queue.append(queue.pop(0))"
   ]
  },
  {
   "cell_type": "code",
   "execution_count": 14,
   "metadata": {},
   "outputs": [
    {
     "name": "stdout",
     "output_type": "stream",
     "text": [
      "[(2, 0), (1, 1), (4, 2), (3, 3)]\n"
     ]
    },
    {
     "data": {
      "text/plain": [
       "2"
      ]
     },
     "execution_count": 14,
     "metadata": {},
     "output_type": "execute_result"
    }
   ],
   "source": [
    "queue = [2,1,4,3]\n",
    "queue = [(val, idx) for idx,val in enumerate(queue)]\n",
    "print(queue)\n",
    "max(queue, key = lambda x:x[0])\n",
    "queue[0][0]"
   ]
  },
  {
   "cell_type": "code",
   "execution_count": null,
   "metadata": {},
   "outputs": [],
   "source": []
  }
 ],
 "metadata": {
  "kernelspec": {
   "display_name": "Python 3",
   "language": "python",
   "name": "python3"
  },
  "language_info": {
   "codemirror_mode": {
    "name": "ipython",
    "version": 3
   },
   "file_extension": ".py",
   "mimetype": "text/x-python",
   "name": "python",
   "nbconvert_exporter": "python",
   "pygments_lexer": "ipython3",
   "version": "3.7.3"
  }
 },
 "nbformat": 4,
 "nbformat_minor": 2
}
