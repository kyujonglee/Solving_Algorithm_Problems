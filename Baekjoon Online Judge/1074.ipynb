{
 "cells": [
  {
   "cell_type": "markdown",
   "metadata": {},
   "source": [
    "### 재귀함수\n",
    "\n",
    "##### 문제제목 : Z\n",
    "##### 문제 난이도 : 중"
   ]
  },
  {
   "cell_type": "code",
   "execution_count": 1,
   "metadata": {},
   "outputs": [
    {
     "name": "stdout",
     "output_type": "stream",
     "text": [
      "2 3 1\n",
      "11\n"
     ]
    }
   ],
   "source": [
    "#### 잘못된 풀이 (시간초과)\n",
    "N, r, c = list(map(int, input().split(' ')))\n",
    "\n",
    "def z(dic, x, y):\n",
    "    num = dic['num']\n",
    "    if x == r and y == c:\n",
    "        return num\n",
    "    elif x == r and (y + 1) == c:\n",
    "        return num + 1\n",
    "    elif (x + 1) == r and y == c:\n",
    "        return num + 2\n",
    "    elif (x + 1) == r and (y + 1) == c:\n",
    "        return num + 3\n",
    "    dic['num'] += 4\n",
    "\n",
    "\n",
    "dic = {'num': 0}\n",
    "\n",
    "for x in range(0, 2**N, 2):\n",
    "    for y in range(0, 2**N, 2):\n",
    "        result = z(dic, x, y)\n",
    "        if result:\n",
    "            print(result)\n",
    "            break\n",
    "\n"
   ]
  },
  {
   "cell_type": "code",
   "execution_count": null,
   "metadata": {},
   "outputs": [],
   "source": [
    "### 맞는 풀이\n",
    "def sol(n, x, y):\n",
    "    global num, r, c\n",
    "    if n == 2:\n",
    "        if x == r and y == c:\n",
    "            print(num)\n",
    "            return\n",
    "        num += 1\n",
    "        if x == r and (y + 1) == c:\n",
    "            print(num)\n",
    "            return\n",
    "        num += 1\n",
    "        if (x + 1) == r and y == c:\n",
    "            print(num)\n",
    "            return\n",
    "        num += 1\n",
    "        if (x + 1) == r and (y + 1) == c:\n",
    "            print(num)\n",
    "            return\n",
    "        num += 1\n",
    "        return\n",
    "    sol(n / 2, x, y)\n",
    "    sol(n / 2, x, y + n / 2)\n",
    "    sol(n / 2, x + n / 2, y)\n",
    "    sol(n / 2, x + n / 2, y + n / 2)\n",
    "\n",
    "\n",
    "N, r, c = map(int, input().split(' '))\n",
    "num = 0\n",
    "sol(2**N, 0, 0)\n"
   ]
  }
 ],
 "metadata": {
  "kernelspec": {
   "display_name": "Python 3",
   "language": "python",
   "name": "python3"
  },
  "language_info": {
   "codemirror_mode": {
    "name": "ipython",
    "version": 3
   },
   "file_extension": ".py",
   "mimetype": "text/x-python",
   "name": "python",
   "nbconvert_exporter": "python",
   "pygments_lexer": "ipython3",
   "version": "3.7.3"
  }
 },
 "nbformat": 4,
 "nbformat_minor": 2
}
