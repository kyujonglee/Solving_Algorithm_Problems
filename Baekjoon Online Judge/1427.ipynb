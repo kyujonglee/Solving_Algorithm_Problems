{
 "cells": [
  {
   "cell_type": "markdown",
   "metadata": {},
   "source": [
    "#### 문제제목: 소트인사이드\n",
    "#### 문제난이도: 하\n",
    "#### 문제 유형: 정렬, 배열\n",
    "#### 추천 문제 풀이 시간: 25분"
   ]
  },
  {
   "cell_type": "code",
   "execution_count": 1,
   "metadata": {},
   "outputs": [
    {
     "name": "stdout",
     "output_type": "stream",
     "text": [
      "2413\n",
      "4321\n"
     ]
    }
   ],
   "source": [
    "# 풀이 1\n",
    "arr = list(map(str, input()))\n",
    "arr.sort(reverse=True)\n",
    "print(''.join(arr))"
   ]
  },
  {
   "cell_type": "code",
   "execution_count": 2,
   "metadata": {},
   "outputs": [
    {
     "name": "stdout",
     "output_type": "stream",
     "text": [
      "2413\n",
      "4321"
     ]
    }
   ],
   "source": [
    "# 풀이 2\n",
    "arr = input()\n",
    "\n",
    "for i in range(9, -1, -1):\n",
    "    for j in arr:\n",
    "        if int(j) == i:\n",
    "            print(j, end='')\n",
    "\n"
   ]
  },
  {
   "cell_type": "code",
   "execution_count": null,
   "metadata": {},
   "outputs": [],
   "source": []
  }
 ],
 "metadata": {
  "kernelspec": {
   "display_name": "Python 3",
   "language": "python",
   "name": "python3"
  },
  "language_info": {
   "codemirror_mode": {
    "name": "ipython",
    "version": 3
   },
   "file_extension": ".py",
   "mimetype": "text/x-python",
   "name": "python",
   "nbconvert_exporter": "python",
   "pygments_lexer": "ipython3",
   "version": "3.7.3"
  }
 },
 "nbformat": 4,
 "nbformat_minor": 2
}
