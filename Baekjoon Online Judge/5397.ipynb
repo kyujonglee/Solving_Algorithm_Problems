{
 "cells": [
  {
   "cell_type": "markdown",
   "metadata": {},
   "source": [
    "### 문제 제목 : 5397번\n",
    "- 문제 난이도 : 중\n",
    "- 문제 유형: 스택, 구현, 그리디\n",
    "- 추천 풀이 시간: 40분"
   ]
  },
  {
   "cell_type": "code",
   "execution_count": 13,
   "metadata": {},
   "outputs": [
    {
     "name": "stdout",
     "output_type": "stream",
     "text": [
      "2\n",
      "<<BP<A>>Cd-\n",
      "0\n",
      "0\n",
      "1\n",
      "BAPC\n",
      "ㅇ\n",
      "ㅇ\n"
     ]
    }
   ],
   "source": [
    "# 시간초과된 나의 풀이\n",
    "# stack과 관련된 insert 연산이 문제인 것 같음.\n",
    "test_case = int(input())\n",
    "\n",
    "for _ in range(test_case):\n",
    "    data = list(input())\n",
    "    stack = []\n",
    "    point = 0\n",
    "    for idx,val in enumerate(data):\n",
    "        if val == '<':\n",
    "            point = point-1 if point-1 >= 0 else 0\n",
    "        elif val == '>':\n",
    "            point = point if point+1 > len(stack) else point+1\n",
    "        elif val == '-':\n",
    "            if point > 0:\n",
    "                point -= 1\n",
    "                stack.pop(point)\n",
    "        else:\n",
    "            stack.insert(point, val)\n",
    "            point += 1\n",
    "    print(\"\".join(stack))\n",
    "            "
   ]
  },
  {
   "cell_type": "code",
   "execution_count": 15,
   "metadata": {},
   "outputs": [
    {
     "name": "stdout",
     "output_type": "stream",
     "text": [
      "2\n",
      "<<BP<A>>Cd-\n",
      "BCPA\n",
      "ThIsIsS3Cr3t\n",
      "ThIsIsS3Cr3t\n"
     ]
    }
   ],
   "source": [
    "test_case = int(input())\n",
    "\n",
    "for _ in range(test_case):\n",
    "    data = input()\n",
    "    left_stack = []\n",
    "    right_stack = []\n",
    "    for val in data:\n",
    "        if val == '<':\n",
    "            if left_stack:\n",
    "                right_stack.append(left_stack.pop())\n",
    "        elif val == '>':\n",
    "            if right_stack:\n",
    "                left_stack.append(right_stack.pop())\n",
    "        elif val == '-':\n",
    "            if left_stack:\n",
    "                left_stack.pop()\n",
    "        else:\n",
    "            left_stack.append(val)\n",
    "    left_stack.extend(reversed(right_stack))\n",
    "    print(\"\".join(left_stack))"
   ]
  },
  {
   "cell_type": "code",
   "execution_count": null,
   "metadata": {},
   "outputs": [],
   "source": []
  }
 ],
 "metadata": {
  "kernelspec": {
   "display_name": "Python 3",
   "language": "python",
   "name": "python3"
  },
  "language_info": {
   "codemirror_mode": {
    "name": "ipython",
    "version": 3
   },
   "file_extension": ".py",
   "mimetype": "text/x-python",
   "name": "python",
   "nbconvert_exporter": "python",
   "pygments_lexer": "ipython3",
   "version": "3.7.3"
  }
 },
 "nbformat": 4,
 "nbformat_minor": 2
}
