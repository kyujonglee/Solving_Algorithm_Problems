{
 "cells": [
  {
   "cell_type": "markdown",
   "metadata": {},
   "source": [
    "### 문제 제목 : 친구 네트워크\n",
    "- 문제 난이도 : 중\n",
    "- 문제 유형: 해시, 집합, 그래프\n",
    "- 추천 풀이시간 : 50분"
   ]
  },
  {
   "cell_type": "code",
   "execution_count": 2,
   "metadata": {},
   "outputs": [
    {
     "name": "stdout",
     "output_type": "stream",
     "text": [
      "1\n",
      "3\n",
      "Fred Barney\n",
      "Barney Betty\n",
      "Betty Wilma\n",
      "{'Fred': 'Barney', 'Barney': 'Betty', 'Betty': 'Wilma'}\n"
     ]
    }
   ],
   "source": [
    "test_case = int(input())\n",
    "\n",
    "for _ in range(test_case):\n",
    "    count = int(input())\n",
    "    dict = {}\n",
    "    relation = 0\n",
    "    for __ in range(count):\n",
    "        arr = input().split(' ')\n",
    "        dict[arr[0]] = arr[1]\n",
    "        "
   ]
  },
  {
   "cell_type": "markdown",
   "metadata": {},
   "source": [
    "2\n",
    "3\n",
    "Fred Barney\n",
    "Barney Betty\n",
    "Betty Wilma\n",
    "3\n",
    "Fred Barney\n",
    "Betty Wilma\n",
    "Barney Betty\n"
   ]
  },
  {
   "cell_type": "code",
   "execution_count": null,
   "metadata": {},
   "outputs": [],
   "source": []
  }
 ],
 "metadata": {
  "kernelspec": {
   "display_name": "Python 3",
   "language": "python",
   "name": "python3"
  },
  "language_info": {
   "codemirror_mode": {
    "name": "ipython",
    "version": 3
   },
   "file_extension": ".py",
   "mimetype": "text/x-python",
   "name": "python",
   "nbconvert_exporter": "python",
   "pygments_lexer": "ipython3",
   "version": "3.7.3"
  }
 },
 "nbformat": 4,
 "nbformat_minor": 2
}
