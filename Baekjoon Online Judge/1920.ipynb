{
 "cells": [
  {
   "cell_type": "markdown",
   "metadata": {},
   "source": [
    "### 문제 제목: 수찾기\n",
    "- 문제 난이도 : 하\n",
    "- 문제 유형 : 해시, 배열, 구현\n",
    "- 추천 문제 풀이시간: 20분"
   ]
  },
  {
   "cell_type": "code",
   "execution_count": 3,
   "metadata": {},
   "outputs": [
    {
     "name": "stdout",
     "output_type": "stream",
     "text": [
      "5\n",
      "4 1 5 2 3\n",
      "5\n",
      "1 3 7 9 5\n",
      "1\n",
      "1\n",
      "0\n",
      "0\n",
      "1\n"
     ]
    }
   ],
   "source": [
    "n_count = int(input())\n",
    "n_arr = set(map(int, (input().split(' '))))\n",
    "m_count = int(input())\n",
    "m_arr = list(map(int, (input().split(' '))))\n",
    "\n",
    "for num in m_arr:\n",
    "    if num in n_arr:\n",
    "        print(1)\n",
    "    else:\n",
    "        print(0)"
   ]
  },
  {
   "cell_type": "code",
   "execution_count": null,
   "metadata": {},
   "outputs": [],
   "source": [
    "\n",
    "5\n",
    "4 1 5 2 3\n",
    "5\n",
    "1 3 7 9 5"
   ]
  }
 ],
 "metadata": {
  "kernelspec": {
   "display_name": "Python 3",
   "language": "python",
   "name": "python3"
  },
  "language_info": {
   "codemirror_mode": {
    "name": "ipython",
    "version": 3
   },
   "file_extension": ".py",
   "mimetype": "text/x-python",
   "name": "python",
   "nbconvert_exporter": "python",
   "pygments_lexer": "ipython3",
   "version": "3.7.3"
  }
 },
 "nbformat": 4,
 "nbformat_minor": 2
}
