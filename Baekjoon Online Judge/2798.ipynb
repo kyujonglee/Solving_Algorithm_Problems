{
 "cells": [
  {
   "cell_type": "markdown",
   "metadata": {},
   "source": [
    "##### 문제 : 블랙잭\n",
    "- 문제 난이도 : 하\n",
    "- 문제 유형 : 배열, 완전탐색\n",
    "- 추천 풀이 시간 : 20분"
   ]
  },
  {
   "cell_type": "code",
   "execution_count": 6,
   "metadata": {},
   "outputs": [
    {
     "name": "stdout",
     "output_type": "stream",
     "text": [
      "5 21\n",
      "5 6 7 8 9\n",
      "21\n"
     ]
    }
   ],
   "source": [
    "card_count, m = list(map(int,(input().split(' '))))\n",
    "data = list(map(int, input().split(' ')))\n",
    "result = 0\n",
    "length = len(data)\n",
    "\n",
    "for i in range(0, length):\n",
    "    for j in range(i+1, length):\n",
    "        for k in range(j+1, length):\n",
    "            sum_result = data[i] + data[j] + data[k]\n",
    "            if sum_result <= m:\n",
    "                result = max(result, sum_result)\n",
    "                \n",
    "print(result)"
   ]
  },
  {
   "cell_type": "code",
   "execution_count": null,
   "metadata": {},
   "outputs": [],
   "source": []
  }
 ],
 "metadata": {
  "kernelspec": {
   "display_name": "Python 3",
   "language": "python",
   "name": "python3"
  },
  "language_info": {
   "codemirror_mode": {
    "name": "ipython",
    "version": 3
   },
   "file_extension": ".py",
   "mimetype": "text/x-python",
   "name": "python",
   "nbconvert_exporter": "python",
   "pygments_lexer": "ipython3",
   "version": "3.7.3"
  }
 },
 "nbformat": 4,
 "nbformat_minor": 2
}
