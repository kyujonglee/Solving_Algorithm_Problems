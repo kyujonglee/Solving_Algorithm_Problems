{
 "cells": [
  {
   "cell_type": "markdown",
   "metadata": {},
   "source": [
    "##### https://www.acmicpc.net/problem/2920\n",
    "- 백준: 음계\n",
    "- 문제 난이도: 하\n",
    "- 문제 유형: 배열, 구현\n",
    "- 추천 풀이 시간: 15분"
   ]
  },
  {
   "cell_type": "code",
   "execution_count": 12,
   "metadata": {},
   "outputs": [
    {
     "name": "stdout",
     "output_type": "stream",
     "text": [
      "1 2 3 4 5 6 7 8\n",
      "ascending\n"
     ]
    }
   ],
   "source": [
    "arr = list(map(int, input().split(' ')))\n",
    "\n",
    "ascending = True\n",
    "descending = True\n",
    "for i in range(1,len(arr)):\n",
    "    if arr[i] > arr[i-1]:\n",
    "        descending = False\n",
    "    elif arr[i-1] > arr[i]:\n",
    "        ascending = False\n",
    "        \n",
    "if ascending:\n",
    "    print('ascending')\n",
    "elif descending:\n",
    "    print('descending')\n",
    "else:\n",
    "    print('mixed')"
   ]
  },
  {
   "cell_type": "code",
   "execution_count": null,
   "metadata": {},
   "outputs": [],
   "source": []
  }
 ],
 "metadata": {
  "kernelspec": {
   "display_name": "Python 3",
   "language": "python",
   "name": "python3"
  },
  "language_info": {
   "codemirror_mode": {
    "name": "ipython",
    "version": 3
   },
   "file_extension": ".py",
   "mimetype": "text/x-python",
   "name": "python",
   "nbconvert_exporter": "python",
   "pygments_lexer": "ipython3",
   "version": "3.7.3"
  }
 },
 "nbformat": 4,
 "nbformat_minor": 2
}
